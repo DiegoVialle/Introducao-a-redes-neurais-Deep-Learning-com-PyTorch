{
  "nbformat": 4,
  "nbformat_minor": 0,
  "metadata": {
    "colab": {
      "name": "Sintaxe do Pytorch.ipynb",
      "provenance": [],
      "collapsed_sections": [],
      "include_colab_link": true
    },
    "kernelspec": {
      "name": "python3",
      "display_name": "Python 3"
    },
    "accelerator": "GPU"
  },
  "cells": [
    {
      "cell_type": "markdown",
      "metadata": {
        "id": "view-in-github",
        "colab_type": "text"
      },
      "source": [
        "<a href=\"https://colab.research.google.com/github/DiegoVialle/Introducao-a-redes-neurais-Deep-Learning-com-PyTorch/blob/master/Sintaxe_do_Pytorch.ipynb\" target=\"_parent\"><img src=\"https://colab.research.google.com/assets/colab-badge.svg\" alt=\"Open In Colab\"/></a>"
      ]
    },
    {
      "cell_type": "code",
      "metadata": {
        "id": "Jo3G-RN7t2kl",
        "colab_type": "code",
        "outputId": "f87b3470-0974-48c5-cc92-cbea2277d1df",
        "colab": {
          "base_uri": "https://localhost:8080/",
          "height": 36
        }
      },
      "source": [
        "import torch\n",
        "tns = torch.randn(9, 12)\n",
        "tns1 = tns[0:5, 0:4]\n",
        "tns2 = tns[5:, 4:]\n",
        "\n",
        "resultado = torch.mm(tns1, tns2)\n",
        "print(resultado.size())"
      ],
      "execution_count": 0,
      "outputs": [
        {
          "output_type": "stream",
          "text": [
            "torch.Size([5, 8])\n"
          ],
          "name": "stdout"
        }
      ]
    },
    {
      "cell_type": "markdown",
      "metadata": {
        "id": "c25hqijfflPT",
        "colab_type": "text"
      },
      "source": [
        "# Sintaxe básica do Pytorch\n",
        "\n",
        "Assim como o NumPy, o Pytorch é uma biblioteca de processamento vetorial/matricial/tensorial. Operações sobre os tensores do Pytorch possuem sintaxe consideravelmente parecida com operações sobre tensores do NumPy.\n",
        "\n",
        "Para mais informações sobre tensores em PyTorch, consulte a documentação: <br> https://pytorch.org/docs/stable/tensors.html\n",
        "\n"
      ]
    },
    {
      "cell_type": "markdown",
      "metadata": {
        "id": "pIHvu_8afoi2",
        "colab_type": "text"
      },
      "source": [
        "## Tipos de tensores \n",
        "\n",
        "Você pode criar tensores do PyTorch de inúmeras formas! Vamos ver primeiro os tipos de tensores que estão ao nosso dispor. Para isso, vamos converter listas comuns do Python em tensors do PyTorch.\n",
        "\n",
        "Note que a impressão de tensores dos tipos ```float32``` e ```int64``` não vêm acompanhadas do parâmetro de tipo ```dtype```, visto que se tratam dos tipos padrão trabalhados pelo PyTorch."
      ]
    },
    {
      "cell_type": "code",
      "metadata": {
        "id": "hnOEg66FjD2F",
        "colab_type": "code",
        "colab": {}
      },
      "source": [
        "import torch\n",
        "lista = [ [1,2,3],\n",
        "          [4,5,6] ]\n",
        "\n",
        "tns = torch.Tensor(lista)\n",
        "print(tns.dtype)\n",
        "print(tns)\n",
        "\n",
        "print('')\n",
        "tns = torch.DoubleTensor(lista)\n",
        "print(tns.dtype)\n",
        "print(tns)\n",
        "\n",
        "print('')\n",
        "tns = torch.LongTensor(lista)\n",
        "print(tns.dtype)\n",
        "print(tns)\n"
      ],
      "execution_count": 0,
      "outputs": []
    },
    {
      "cell_type": "markdown",
      "metadata": {
        "id": "gxA-fH8bq_fQ",
        "colab_type": "text"
      },
      "source": [
        "## Outras formas de instanciar tensores\n",
        "\n",
        "### A partir de arrays Numpy\n",
        "$torch.from\\_numpy()$ \n",
        "\n"
      ]
    },
    {
      "cell_type": "code",
      "metadata": {
        "id": "eNxZ-rMHq-xd",
        "colab_type": "code",
        "colab": {}
      },
      "source": [
        "import numpy as np\n",
        "\n",
        "arr = np.random.rand(3,4)\n",
        "arr = arr.astype(int)\n",
        "print(arr)\n",
        "print(arr.dtype)\n",
        "\n",
        "print('')\n",
        "tns = torch.from_numpy(arr)\n",
        "print(tns)\n",
        "print(tns.dtype)"
      ],
      "execution_count": 0,
      "outputs": []
    },
    {
      "cell_type": "markdown",
      "metadata": {
        "id": "7QC4F0AqkpPb",
        "colab_type": "text"
      },
      "source": [
        "### Tensores inicializados\n",
        "Essas funções recebem como parâmetro o tamanho de cada dimensão do tensor. Aqui vamos conhecer as seguintes funções:\n",
        "\n",
        "$torch.ones()$ -> Cria um tensor preenchido com zeros.\n",
        "\n",
        "$torch.zeros()$ -> Cria um tensor preenchido com uns.\n",
        "\n",
        "$torch.randn()$ -> Cria um tensor preenchido com números aleatórios a partir de uma distribuição normal."
      ]
    },
    {
      "cell_type": "code",
      "metadata": {
        "id": "mZ0kLNgtko5O",
        "colab_type": "code",
        "colab": {}
      },
      "source": [
        "tns1 = torch.ones(2, 3)\n",
        "tns0 = torch.zeros(3, 5)\n",
        "tnsr = torch.randn(3, 3)\n",
        "\n",
        "print(tns1)\n",
        "print(tns0)\n",
        "print(tnsr)"
      ],
      "execution_count": 0,
      "outputs": []
    },
    {
      "cell_type": "markdown",
      "metadata": {
        "id": "lf9piGFVnx6m",
        "colab_type": "text"
      },
      "source": [
        "### Tensor para array numpy"
      ]
    },
    {
      "cell_type": "code",
      "metadata": {
        "id": "FLGt-iw2n3Za",
        "colab_type": "code",
        "colab": {}
      },
      "source": [
        "arr = tnsr.data.numpy()\n",
        "print(arr)"
      ],
      "execution_count": 0,
      "outputs": []
    },
    {
      "cell_type": "markdown",
      "metadata": {
        "id": "X07bm9KBnMtA",
        "colab_type": "text"
      },
      "source": [
        "## Indexação\n",
        "\n",
        "De posse dessa informação, a indexação é feita de forma similar a arrays Numpy, através da sintaxe de colchetes ```[]```."
      ]
    },
    {
      "cell_type": "code",
      "metadata": {
        "id": "c8jRdxHTpCN0",
        "colab_type": "code",
        "colab": {}
      },
      "source": [
        "# tnsr[0,1]\n",
        "\n",
        "print(tnsr[0:2, 2].data.numpy())\n",
        "print(tnsr[0, 1].item())"
      ],
      "execution_count": 0,
      "outputs": []
    },
    {
      "cell_type": "markdown",
      "metadata": {
        "id": "EzGW3gVTqK4y",
        "colab_type": "text"
      },
      "source": [
        "## Operações com tensores\n",
        "\n",
        "A função ```.item()``` utilizada anteriormente extrai o número de um tensor que possui um único valor, permitindo realizar as operações numéricas do Python. Caso o item não seja extraído, operações que envolvam tensores vão retornar novos tensores.\n",
        "\n",
        "Vale ressaltar também que operações entre tensores são realizadas **ponto a ponto**, operando cada elemento ```(i, j)``` do tensor ```t1```, com o elemento ```(i, j)``` do tensor ```t2```."
      ]
    },
    {
      "cell_type": "code",
      "metadata": {
        "id": "vuQTTUf6QiY0",
        "colab_type": "code",
        "colab": {}
      },
      "source": [
        "tns1 = torch.randn(2,2,3)\n",
        "tns2 = torch.ones(2,2,3)\n",
        "\n",
        "print(tns1)\n",
        "print(tns2)\n",
        "\n",
        "print('')\n",
        "\n",
        "print(tns1*tns2)"
      ],
      "execution_count": 0,
      "outputs": []
    },
    {
      "cell_type": "markdown",
      "metadata": {
        "id": "f-N_PETWtMZ7",
        "colab_type": "text"
      },
      "source": [
        "## Função ```.size()``` e ```.view()```\n",
        "\n",
        "Uma operações **importantíssima** na manipulação de tensores para Deep Learning é a reorganização das suas dimensões. Dessa forma podemos, por exemplo, **linearizar um tensor n-dimensional**."
      ]
    },
    {
      "cell_type": "code",
      "metadata": {
        "id": "CKgCe5brte2L",
        "colab_type": "code",
        "colab": {}
      },
      "source": [
        "print(tns2.size())\n",
        "\n",
        "print(tns2.view(tns2.size(0), -1))"
      ],
      "execution_count": 0,
      "outputs": []
    },
    {
      "cell_type": "markdown",
      "metadata": {
        "id": "0o4_LzQoz0Ti",
        "colab_type": "text"
      },
      "source": [
        "## GPU Cast\n",
        "\n",
        "Para que o seu script dê suporte a infraestruturas com e sem GPU, é importante definir o dispositivo no início do seu código de acordo com a verificação apresentada a seguir. Essa definição de dispositivo será utilizada toda vez que precisarmos subir valores na GPU, como os pesos da rede, os gradientes, etc."
      ]
    },
    {
      "cell_type": "code",
      "metadata": {
        "id": "uePyYun4z1u3",
        "colab_type": "code",
        "outputId": "2e6b9822-54ed-4c91-ce1a-cfa1f81a4ccb",
        "colab": {
          "base_uri": "https://localhost:8080/",
          "height": 122
        }
      },
      "source": [
        "if torch.cuda.is_available():\n",
        "  device = torch.device('cuda')\n",
        "else:\n",
        "  device = torch.device('cpu')\n",
        "  \n",
        "print(device)\n",
        "tns2 = tns2.to(device)\n",
        "print(tns2)"
      ],
      "execution_count": 0,
      "outputs": [
        {
          "output_type": "stream",
          "text": [
            "cuda\n",
            "tensor([[[1., 1., 1.],\n",
            "         [1., 1., 1.]],\n",
            "\n",
            "        [[1., 1., 1.],\n",
            "         [1., 1., 1.]]], device='cuda:0')\n"
          ],
          "name": "stdout"
        }
      ]
    },
    {
      "cell_type": "code",
      "metadata": {
        "id": "FZwCMinKJjsA",
        "colab_type": "code",
        "colab": {
          "base_uri": "https://localhost:8080/",
          "height": 34
        },
        "outputId": "766c456f-20af-4612-a170-a5115f7dd419"
      },
      "source": [
        "import torch\n",
        "tns = torch.randn(9, 12)\n",
        "tns1 = tns[0:5, 0:4]\n",
        "tns2 = tns[5:, 4:]\n",
        "\n",
        "resultado = torch.mm(tns1, tns2)\n",
        "print(resultado.size())"
      ],
      "execution_count": 1,
      "outputs": [
        {
          "output_type": "stream",
          "text": [
            "torch.Size([5, 8])\n"
          ],
          "name": "stdout"
        }
      ]
    },
    {
      "cell_type": "code",
      "metadata": {
        "id": "of5yrrShJkvD",
        "colab_type": "code",
        "colab": {}
      },
      "source": [
        "# crie um tensor aleatório tns1 com a dimensionalidade 7 x 7 x 3 e um outro tensor aleatório tns2 de 147 x 1. \n",
        "# Modificando apenas tns1 some os dois tensores.\n",
        "\n",
        "tns1 = torch.randn(7,7,3)\n",
        "tns2 = torch.randn(147, 1)\n",
        "\n",
        "tns1 = tns1.view(-1, 1)\n",
        "soma = tns1 + tns2"
      ],
      "execution_count": 0,
      "outputs": []
    },
    {
      "cell_type": "code",
      "metadata": {
        "id": "47DCJ1v7KAB5",
        "colab_type": "code",
        "colab": {
          "base_uri": "https://localhost:8080/",
          "height": 1000
        },
        "outputId": "90aabfb0-9aae-4ad9-c941-0b495d1a0840"
      },
      "source": [
        "soma"
      ],
      "execution_count": 4,
      "outputs": [
        {
          "output_type": "execute_result",
          "data": {
            "text/plain": [
              "tensor([[ 1.0696],\n",
              "        [ 0.6786],\n",
              "        [ 1.0477],\n",
              "        [-0.0999],\n",
              "        [ 0.7602],\n",
              "        [ 0.2269],\n",
              "        [ 0.2044],\n",
              "        [ 3.0475],\n",
              "        [-0.9394],\n",
              "        [ 1.1467],\n",
              "        [-0.8330],\n",
              "        [ 2.4085],\n",
              "        [-1.1138],\n",
              "        [-0.7700],\n",
              "        [-0.4843],\n",
              "        [-1.1601],\n",
              "        [ 3.6193],\n",
              "        [ 2.2823],\n",
              "        [ 1.7396],\n",
              "        [-1.1913],\n",
              "        [ 0.6723],\n",
              "        [ 0.9346],\n",
              "        [ 1.4652],\n",
              "        [ 1.7690],\n",
              "        [-0.2277],\n",
              "        [ 1.2847],\n",
              "        [-0.7888],\n",
              "        [ 0.0977],\n",
              "        [ 1.8772],\n",
              "        [-3.2571],\n",
              "        [ 4.0514],\n",
              "        [ 1.4413],\n",
              "        [-0.5634],\n",
              "        [ 2.2103],\n",
              "        [ 0.7347],\n",
              "        [-1.1106],\n",
              "        [ 0.6904],\n",
              "        [ 1.4681],\n",
              "        [-0.2646],\n",
              "        [ 0.9364],\n",
              "        [ 0.9701],\n",
              "        [-0.6819],\n",
              "        [-0.3939],\n",
              "        [-1.1536],\n",
              "        [-0.8759],\n",
              "        [-0.7676],\n",
              "        [ 3.5666],\n",
              "        [ 0.0726],\n",
              "        [-0.3317],\n",
              "        [-0.8140],\n",
              "        [-0.6324],\n",
              "        [ 0.4090],\n",
              "        [ 0.6649],\n",
              "        [ 0.1741],\n",
              "        [-0.1450],\n",
              "        [ 1.9657],\n",
              "        [-1.8536],\n",
              "        [-0.1868],\n",
              "        [ 2.0203],\n",
              "        [-1.1035],\n",
              "        [ 0.6988],\n",
              "        [ 1.5130],\n",
              "        [-0.0912],\n",
              "        [ 0.6122],\n",
              "        [-0.7311],\n",
              "        [ 1.0100],\n",
              "        [-1.8235],\n",
              "        [-0.1196],\n",
              "        [ 0.1311],\n",
              "        [ 3.8317],\n",
              "        [ 0.2352],\n",
              "        [ 0.7760],\n",
              "        [ 2.3898],\n",
              "        [-2.3191],\n",
              "        [ 1.4265],\n",
              "        [-2.6515],\n",
              "        [ 0.5005],\n",
              "        [ 0.8572],\n",
              "        [ 0.6294],\n",
              "        [ 0.9320],\n",
              "        [-1.2498],\n",
              "        [ 2.4990],\n",
              "        [-0.5123],\n",
              "        [-1.4498],\n",
              "        [-1.9153],\n",
              "        [-0.1887],\n",
              "        [ 1.4446],\n",
              "        [ 0.2219],\n",
              "        [-2.5852],\n",
              "        [ 1.0873],\n",
              "        [ 1.0550],\n",
              "        [-0.8488],\n",
              "        [-2.3258],\n",
              "        [ 3.2374],\n",
              "        [ 2.6188],\n",
              "        [-0.2624],\n",
              "        [-1.8316],\n",
              "        [-2.4449],\n",
              "        [ 0.6854],\n",
              "        [ 1.7502],\n",
              "        [-0.6577],\n",
              "        [ 1.0033],\n",
              "        [-0.1850],\n",
              "        [ 1.7863],\n",
              "        [ 0.1981],\n",
              "        [ 0.8849],\n",
              "        [ 1.0962],\n",
              "        [ 0.8319],\n",
              "        [ 0.2248],\n",
              "        [-0.6110],\n",
              "        [ 0.6167],\n",
              "        [ 3.5241],\n",
              "        [-1.3992],\n",
              "        [ 0.2187],\n",
              "        [ 0.4747],\n",
              "        [-2.2739],\n",
              "        [-1.1649],\n",
              "        [ 1.3076],\n",
              "        [ 1.4320],\n",
              "        [ 0.2630],\n",
              "        [ 2.4739],\n",
              "        [-1.8667],\n",
              "        [ 2.2553],\n",
              "        [-2.3639],\n",
              "        [-0.5912],\n",
              "        [-2.4022],\n",
              "        [-1.0005],\n",
              "        [ 0.3729],\n",
              "        [ 1.3281],\n",
              "        [-2.2371],\n",
              "        [-1.1494],\n",
              "        [-1.4479],\n",
              "        [ 0.5187],\n",
              "        [ 0.1878],\n",
              "        [-0.2909],\n",
              "        [ 0.9962],\n",
              "        [-0.9560],\n",
              "        [-0.0129],\n",
              "        [ 0.9337],\n",
              "        [-0.1027],\n",
              "        [ 0.1669],\n",
              "        [-0.0685],\n",
              "        [ 0.0246],\n",
              "        [-2.1957],\n",
              "        [ 0.4397],\n",
              "        [-0.9793],\n",
              "        [ 0.6448]])"
            ]
          },
          "metadata": {
            "tags": []
          },
          "execution_count": 4
        }
      ]
    },
    {
      "cell_type": "code",
      "metadata": {
        "id": "-lpKUehhKGl9",
        "colab_type": "code",
        "colab": {}
      },
      "source": [
        ""
      ],
      "execution_count": 0,
      "outputs": []
    }
  ]
}